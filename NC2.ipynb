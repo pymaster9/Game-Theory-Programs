{
 "cells": [
  {
   "cell_type": "code",
   "execution_count": 1,
   "metadata": {},
   "outputs": [],
   "source": [
    "import tkinter\n",
    "root = tkinter.Tk()\n",
    "frame = tkinter.Frame(root)\n",
    "frame.pack()\n",
    "answer = tkinter.StringVar(root)\n",
    "answer.set(\"[Answer Will Appear Here]\")\n",
    "inputvar = tkinter.StringVar(root)\n",
    "inputvar.set(\"[Number here] PLEASE ONLY PUT NUMBERS\")\n",
    "answertext = tkinter.Label(frame,textvariable=answer)\n",
    "answertext.grid(row = 1, column = 0)\n"
   ]
  },
  {
   "cell_type": "code",
   "execution_count": 2,
   "metadata": {},
   "outputs": [],
   "source": [
    "def Calculate():\n",
    "    n = int(inputvar.get())\n",
    "    ans = (n*(n-1))/2\n",
    "    answer.set(str(ans))"
   ]
  },
  {
   "cell_type": "code",
   "execution_count": 3,
   "metadata": {},
   "outputs": [],
   "source": [
    "calculatebutton = tkinter.Button(frame,command=Calculate,text=\"Find the answer\")\n",
    "calculatebutton.grid(row = 2, column = 0)\n",
    "input = tkinter.Entry(frame, textvariable=inputvar)\n",
    "input.grid(row = 0, column= 0)"
   ]
  },
  {
   "cell_type": "code",
   "execution_count": 4,
   "metadata": {},
   "outputs": [],
   "source": [
    "root.mainloop()"
   ]
  }
 ],
 "metadata": {
  "kernelspec": {
   "display_name": "Python 3",
   "language": "python",
   "name": "python3"
  },
  "language_info": {
   "codemirror_mode": {
    "name": "ipython",
    "version": 3
   },
   "file_extension": ".py",
   "mimetype": "text/x-python",
   "name": "python",
   "nbconvert_exporter": "python",
   "pygments_lexer": "ipython3",
   "version": "3.10.0"
  },
  "orig_nbformat": 4
 },
 "nbformat": 4,
 "nbformat_minor": 2
}
