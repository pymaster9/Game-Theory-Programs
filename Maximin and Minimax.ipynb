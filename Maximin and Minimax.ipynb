{
 "cells": [
  {
   "attachments": {},
   "cell_type": "markdown",
   "metadata": {},
   "source": [
    "Input the table and save the nesicary variables"
   ]
  },
  {
   "cell_type": "code",
   "execution_count": 80,
   "metadata": {},
   "outputs": [
    {
     "name": "stdout",
     "output_type": "stream",
     "text": [
      "[[4, 7, 3], [2, 6, 5], [1, 8, 9]]\n"
     ]
    }
   ],
   "source": [
    "dementions = int(input(\"How big do you want the table to be? \"))\n",
    "game = []\n",
    "for x in range(dementions):\n",
    "    curr = []\n",
    "    for y in range(dementions):\n",
    "        curr.append(int(input(f\"What do you want in the cell {x},{y}? \")))\n",
    "    game.append(curr)\n",
    "print(game)"
   ]
  },
  {
   "attachments": {},
   "cell_type": "markdown",
   "metadata": {},
   "source": [
    "Finding the minimax"
   ]
  },
  {
   "cell_type": "code",
   "execution_count": 81,
   "metadata": {},
   "outputs": [],
   "source": [
    "minimax = 10000000\n",
    "minimaxindex = 0\n",
    "\n",
    "for y in range(dementions):\n",
    "    maximumofrow = -1000000\n",
    "    for x in range(dementions):\n",
    "        if(game[x][y]> maximumofrow):\n",
    "            maximumofrow = game[x][y]\n",
    "    if(maximumofrow < minimax):\n",
    "        minimax = maximumofrow\n",
    "        minimaxindex = y"
   ]
  },
  {
   "attachments": {},
   "cell_type": "markdown",
   "metadata": {},
   "source": [
    "Finding the maximin"
   ]
  },
  {
   "cell_type": "code",
   "execution_count": 82,
   "metadata": {},
   "outputs": [],
   "source": [
    "maximin = -10000000\n",
    "maximinindex = 0\n",
    "\n",
    "for x in range(dementions):\n",
    "    minimumofrow = 1000000\n",
    "    currindex = 0\n",
    "    for y in range(dementions):\n",
    "        if(game[x][y]< minimumofrow):\n",
    "            minimumofrow = game[x][y]\n",
    "            currindex = y\n",
    "    if(minimumofrow > maximin):\n",
    "        maximin = minimumofrow\n",
    "        maximinindex = currindex"
   ]
  },
  {
   "attachments": {},
   "cell_type": "markdown",
   "metadata": {},
   "source": [
    "Calculate equilibreum if it exists"
   ]
  },
  {
   "cell_type": "code",
   "execution_count": 83,
   "metadata": {},
   "outputs": [],
   "source": [
    "equilibreum = False\n",
    "equilibreumindex = []\n",
    "if minimax == maximin:\n",
    "    equilibreum = True\n",
    "    equilibreumindex.append(maximinindex)\n",
    "    equilibreumindex.append(minimaxindex)"
   ]
  },
  {
   "attachments": {},
   "cell_type": "markdown",
   "metadata": {},
   "source": [
    "Print out results"
   ]
  },
  {
   "cell_type": "code",
   "execution_count": 84,
   "metadata": {},
   "outputs": [
    {
     "name": "stdout",
     "output_type": "stream",
     "text": [
      "The minimax is 4 at column 0\n",
      "The maximin is 3 at row 2\n",
      "There is no saddle point\n"
     ]
    }
   ],
   "source": [
    "print(f\"The minimax is {minimax} at column {minimaxindex}\")\n",
    "print(f\"The maximin is {maximin} at row {maximinindex}\")\n",
    "if(equilibreum == False):\n",
    "   print(\"There is no saddle point\")\n",
    "else:\n",
    "   print(f\"There is a saddle point according to the minimax and maximin at {equilibreumindex}\")"
   ]
  }
 ],
 "metadata": {
  "kernelspec": {
   "display_name": "Python 3",
   "language": "python",
   "name": "python3"
  },
  "language_info": {
   "codemirror_mode": {
    "name": "ipython",
    "version": 3
   },
   "file_extension": ".py",
   "mimetype": "text/x-python",
   "name": "python",
   "nbconvert_exporter": "python",
   "pygments_lexer": "ipython3",
   "version": "3.10.0"
  },
  "orig_nbformat": 4
 },
 "nbformat": 4,
 "nbformat_minor": 2
}
