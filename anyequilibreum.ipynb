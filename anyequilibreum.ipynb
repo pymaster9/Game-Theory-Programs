{
 "cells": [
  {
   "cell_type": "code",
   "execution_count": 1,
   "metadata": {},
   "outputs": [],
   "source": [
    "import tkinter\n",
    "todelete = []\n",
    "\n",
    "root = tkinter.Tk()\n",
    "frame = tkinter.Frame(root)\n",
    "frame.pack()\n",
    "\n",
    "p1textvars = []\n",
    "p2textvars = []\n",
    "outputvar = tkinter.StringVar(frame)\n",
    "dimentionvar = tkinter.StringVar(root)"
   ]
  },
  {
   "cell_type": "code",
   "execution_count": 2,
   "metadata": {},
   "outputs": [],
   "source": [
    "def Equilibreum(gametableforp1txt, gametableforp2txt, outputvar, dimentions):\n",
    "    gametableforp1 = []\n",
    "    gametableforp2 = []\n",
    "    try:\n",
    "        for x in range(dimentions):\n",
    "            curr1 = []\n",
    "            curr2 = []\n",
    "            for y in range(dimentions):\n",
    "                curr1.append(float(gametableforp1txt[x][y].get()))\n",
    "                curr2.append(float(gametableforp2txt[x][y].get()))\n",
    "            gametableforp1.append(curr1)\n",
    "            gametableforp2.append(curr2)\n",
    "    except(ValueError):\n",
    "        outputvar.set(\"We couldn't read one of your numbers. Please check to see that there are no letters or spaces\")\n",
    "    \n",
    "    print(\"here to part 2\")\n",
    "    anyequilibreum = False\n",
    "    output = ''\n",
    "    for x in range(dimentions):\n",
    "        for y in range(dimentions):\n",
    "            #Check for better strat for P2\n",
    "            p2payoff = gametableforp2[x][y]\n",
    "            equilibreum = True\n",
    "            for z in range(dimentions):\n",
    "                if(z != y):\n",
    "                    if(gametableforp2[x][z] > p2payoff):\n",
    "                        equilibreum = False\n",
    "            \n",
    "            #Check for better strat for P1\n",
    "            p1payoff = gametableforp1[x][y]\n",
    "            for z in range(dimentions):\n",
    "                if(z != x):\n",
    "                    if(gametableforp1[z][y] > p1payoff):\n",
    "                        equilibreum = False\n",
    "            if(equilibreum):\n",
    "                anyequilibreum = True\n",
    "                output += f\"There is an equilibreum at {x},{y}\\n\"\n",
    "    if(anyequilibreum == False):\n",
    "        output = \"No Pure Strategy\"\n",
    "    outputvar.set(output)\n",
    "    "
   ]
  },
  {
   "cell_type": "code",
   "execution_count": 3,
   "metadata": {},
   "outputs": [],
   "source": [
    "def CreateTable():\n",
    "    for x in todelete:\n",
    "        x.destroy()\n",
    "    \n",
    "    dimentions = int(dimentionvar.get())\n",
    "    curr = tkinter.Label(frame,text=\"Player 1 strategies\")\n",
    "    curr.grid(row = 0, column= 0, columnspan= dimentions)\n",
    "    for x in range(dimentions):\n",
    "        current = []\n",
    "        curr = tkinter.Label(frame,text=str(x))\n",
    "        curr.grid(row = x+2, column = 0)\n",
    "        todelete.append(curr)\n",
    "        for y in range(dimentions):\n",
    "            current.append(tkinter.StringVar(frame))\n",
    "            curr = tkinter.Entry(frame, textvariable=current[y])\n",
    "            curr.grid(row = x+2,column= (y)+1)\n",
    "            todelete.append(curr)\n",
    "            if(x == 0):\n",
    "                curr = tkinter.Label(frame,text = str(y))\n",
    "                curr.grid(row=1,column=y+1)\n",
    "                todelete.append(curr)\n",
    "        p1textvars.append(current)\n",
    "\n",
    "    for x in range(dimentions):\n",
    "        current = []\n",
    "        curr = tkinter.Label(frame,text=str(x))\n",
    "        curr.grid(row = dimentions+x+3, column = 0)\n",
    "        todelete.append(curr)\n",
    "        for y in range(dimentions):\n",
    "            current.append(tkinter.StringVar(frame))\n",
    "            curr = tkinter.Entry(frame, textvariable=current[y])\n",
    "            curr.grid(row = dimentions+x+3,column= (y)+1)\n",
    "            todelete.append(curr)\n",
    "            if(x == 0):\n",
    "                curr = tkinter.Label(frame,text = str(y))\n",
    "                curr.grid(row=dimentions+2,column=y+1)\n",
    "                todelete.append(curr)\n",
    "        p2textvars.append(current)\n",
    "\n",
    "    curr = tkinter.Button(frame,text=\"Find the Equilibreum\", command=lambda:Equilibreum(p1textvars,p2textvars,outputvar, dimentions))\n",
    "    curr.grid(row = 2*dimentions+10, column = 0, columnspan= dimentions)\n",
    "    todelete.append(curr)\n",
    "    curr = tkinter.Label(frame,textvariable=outputvar)\n",
    "    curr.grid(row=2*dimentions+11,column = 0, columnspan=dimentions)\n",
    "    todelete.append(curr)"
   ]
  },
  {
   "cell_type": "code",
   "execution_count": 4,
   "metadata": {},
   "outputs": [
    {
     "ename": "KeyboardInterrupt",
     "evalue": "",
     "output_type": "error",
     "traceback": [
      "\u001b[0;31m---------------------------------------------------------------------------\u001b[0m",
      "\u001b[0;31mKeyboardInterrupt\u001b[0m                         Traceback (most recent call last)",
      "Cell \u001b[0;32mIn[4], line 18\u001b[0m\n\u001b[1;32m     12\u001b[0m Initialize()\n\u001b[1;32m     15\u001b[0m \u001b[38;5;66;03m# tkinter.Button(frame,text=\"Find the Equilibreum\", command=lambda:Equilibreum(p1textvars,outputvar)).grid(row = 8, column = 2)\u001b[39;00m\n\u001b[1;32m     16\u001b[0m \u001b[38;5;66;03m# tkinter.Label(frame,textvariable=outputvar).grid(row=10,column = 0, columnspan=9)\u001b[39;00m\n\u001b[0;32m---> 18\u001b[0m \u001b[43mroot\u001b[49m\u001b[38;5;241;43m.\u001b[39;49m\u001b[43mmainloop\u001b[49m\u001b[43m(\u001b[49m\u001b[43m)\u001b[49m\n",
      "File \u001b[0;32m/Library/Frameworks/Python.framework/Versions/3.10/lib/python3.10/tkinter/__init__.py:1458\u001b[0m, in \u001b[0;36mMisc.mainloop\u001b[0;34m(self, n)\u001b[0m\n\u001b[1;32m   1456\u001b[0m \u001b[38;5;28;01mdef\u001b[39;00m \u001b[38;5;21mmainloop\u001b[39m(\u001b[38;5;28mself\u001b[39m, n\u001b[38;5;241m=\u001b[39m\u001b[38;5;241m0\u001b[39m):\n\u001b[1;32m   1457\u001b[0m \u001b[38;5;250m    \u001b[39m\u001b[38;5;124;03m\"\"\"Call the mainloop of Tk.\"\"\"\u001b[39;00m\n\u001b[0;32m-> 1458\u001b[0m     \u001b[38;5;28;43mself\u001b[39;49m\u001b[38;5;241;43m.\u001b[39;49m\u001b[43mtk\u001b[49m\u001b[38;5;241;43m.\u001b[39;49m\u001b[43mmainloop\u001b[49m\u001b[43m(\u001b[49m\u001b[43mn\u001b[49m\u001b[43m)\u001b[49m\n",
      "\u001b[0;31mKeyboardInterrupt\u001b[0m: "
     ]
    },
    {
     "ename": "",
     "evalue": "",
     "output_type": "error",
     "traceback": [
      "\u001b[1;31mThe Kernel crashed while executing code in the the current cell or a previous cell. Please review the code in the cell(s) to identify a possible cause of the failure. Click <a href='https://aka.ms/vscodeJupyterKernelCrash'>here</a> for more info. View Jupyter <a href='command:jupyter.viewOutput'>log</a> for further details."
     ]
    }
   ],
   "source": [
    "\n",
    "def Initialize():\n",
    "    curr = tkinter.Label(frame, text= \"How big is the table?\")\n",
    "    todelete.append(curr)\n",
    "    curr.grid(row=0,column=0)\n",
    "    curr = tkinter.Entry(frame,textvariable=dimentionvar)\n",
    "    todelete.append(curr)\n",
    "    curr.grid(row = 1, column = 0)\n",
    "    curr = tkinter.Button(frame,text= \"Enter Table\", command=CreateTable)\n",
    "    curr.grid(row = 2, column= 0)\n",
    "    todelete.append(curr)\n",
    "\n",
    "Initialize()\n",
    "\n",
    "\n",
    "# tkinter.Button(frame,text=\"Find the Equilibreum\", command=lambda:Equilibreum(p1textvars,outputvar)).grid(row = 8, column = 2)\n",
    "# tkinter.Label(frame,textvariable=outputvar).grid(row=10,column = 0, columnspan=9)\n",
    "\n",
    "root.mainloop()"
   ]
  }
 ],
 "metadata": {
  "kernelspec": {
   "display_name": "Python 3",
   "language": "python",
   "name": "python3"
  },
  "language_info": {
   "codemirror_mode": {
    "name": "ipython",
    "version": 3
   },
   "file_extension": ".py",
   "mimetype": "text/x-python",
   "name": "python",
   "nbconvert_exporter": "python",
   "pygments_lexer": "ipython3",
   "version": "3.10.0"
  },
  "orig_nbformat": 4
 },
 "nbformat": 4,
 "nbformat_minor": 2
}
